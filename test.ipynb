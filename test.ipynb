{
 "cells": [
  {
   "cell_type": "code",
   "execution_count": 2,
   "metadata": {},
   "outputs": [
    {
     "name": "stdout",
     "output_type": "stream",
     "text": [
      "Resolved Instance Averages:     BLEU: 0.9867756678012728 CodeBLEU: 0.9693382349199752 CodeGLEU: 0.9523196822765444\n",
      "Non-Resolved Instance Averages: BLEU: 0.9561008753943101 CodeBLEU: 0.9089246345352121 CodeGLEU: 0.8705410641063742\n",
      "Pearson Correlation:            BLEU: 0.20583082475340775 CodeBLEU: 0.296436467836879 CodeGLEU: 0.27920835494206975\n",
      "Pearson Correlation P:          BLEU: 0.001063068925772764 CodeBLEU: 1.8307927783384553e-06 CodeGLEU: 7.3945986192177185e-06\n"
     ]
    }
   ],
   "source": [
    "import json\n",
    "import os\n",
    "import regex as re\n",
    "import tqdm\n",
    "import random\n",
    "from pathlib import Path\n",
    "from scipy.stats import pearsonr\n",
    "\n",
    "from git_utils import GitRepo\n",
    "from generate_snippets import generate_snippets\n",
    "from codegleu.dataflow_match import try_remove_comments_and_docstrings\n",
    "\n",
    "import codebleu\n",
    "import codegleu.codegleu\n",
    "\n",
    "results_loc = \"./data/results.json\"\n",
    "scored_loc = \"./data/scored_instances.jsonl\"\n",
    "with open(scored_loc, \"r\") as fp:\n",
    "    scored = [json.loads(line) for line in fp.readlines()]\n",
    "with open(results_loc, \"r\") as fp:\n",
    "    results = json.load(fp)\n",
    "resolved, notresolved = [], []\n",
    "for instance in scored:\n",
    "    if instance[\"instance_id\"] in results[\"resolved\"]:\n",
    "        resolved.append(instance)\n",
    "    elif instance[\"instance_id\"] in results[\"applied\"]:\n",
    "        notresolved.append(instance)\n",
    "\n",
    "total = len(resolved) + len(notresolved)\n",
    "targetsize = min(250, total)\n",
    "resolved = random.sample(resolved, int(targetsize * len(resolved) / total + 0.5))\n",
    "notresolved = random.sample(notresolved, int(targetsize * len(notresolved) / total + 0.5))\n",
    "\n",
    "res_bleu = sum([i[\"bleu\"] for i in resolved]) / len(resolved)\n",
    "res_codebleu = sum([i[\"codebleu\"][\"codebleu\"] for i in resolved]) / len(resolved)\n",
    "res_codegleu = sum([i[\"codegleu\"][\"codegleu\"] for i in resolved]) / len(resolved)\n",
    "\n",
    "nres_bleu = sum([i[\"bleu\"] for i in notresolved]) / len(notresolved)\n",
    "nres_codebleu = sum([i[\"codebleu\"][\"codebleu\"] for i in notresolved]) / len(notresolved)\n",
    "nres_codegleu = sum([i[\"codegleu\"][\"codegleu\"] for i in notresolved]) / len(notresolved)\n",
    "\n",
    "resornot = [1] * len(resolved) + [0] * len(notresolved)\n",
    "bleu_pearson =     pearsonr(resornot, [i[\"bleu\"] for i in resolved] + [i[\"bleu\"] for i in notresolved])\n",
    "codebleu_pearson = pearsonr(resornot, [i[\"codebleu\"][\"codebleu\"] for i in resolved] + [i[\"codebleu\"][\"codebleu\"] for i in notresolved])\n",
    "codegleu_pearson = pearsonr(resornot, [i[\"codegleu\"][\"codegleu\"] for i in resolved] + [i[\"codegleu\"][\"codegleu\"] for i in notresolved])\n",
    "\n",
    "print(f\"Resolved Instance Averages:     BLEU: {res_bleu} CodeBLEU: {res_codebleu} CodeGLEU: {res_codegleu}\")\n",
    "print(f\"Non-Resolved Instance Averages: BLEU: {nres_bleu} CodeBLEU: {nres_codebleu} CodeGLEU: {nres_codegleu}\")\n",
    "print(f\"Pearson Correlation:            BLEU: {bleu_pearson[0]} CodeBLEU: {codebleu_pearson[0]} CodeGLEU: {codegleu_pearson[0]}\")\n",
    "print(f\"Pearson Correlation P:          BLEU: {bleu_pearson[1]} CodeBLEU: {codebleu_pearson[1]} CodeGLEU: {codegleu_pearson[1]}\")\n",
    "\n",
    "with open(\"./data/250_scored_instances.jsonl\", \"+a\") as fp:\n",
    "    for i in resolved + notresolved:\n",
    "        fp.write(json.dumps(i) + \"\\n\")"
   ]
  }
 ],
 "metadata": {
  "language_info": {
   "name": "python"
  }
 },
 "nbformat": 4,
 "nbformat_minor": 2
}
